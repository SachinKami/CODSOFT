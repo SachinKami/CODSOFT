{
 "cells": [
  {
   "cell_type": "code",
   "execution_count": 61,
   "metadata": {},
   "outputs": [],
   "source": [
    "import pandas as pd\n",
    "from sklearn.model_selection import train_test_split\n",
    "from sklearn.linear_model import LogisticRegression\n",
    "from sklearn.metrics import accuracy_score \n",
    "import numpy as np\n",
    "import matplotlib.pyplot as plt\n",
    "import seaborn as sns\n"
   ]
  },
  {
   "cell_type": "code",
   "execution_count": 62,
   "metadata": {},
   "outputs": [],
   "source": [
    "#uploading the data set\n",
    "df=pd.read_csv('D:/CodSoft/Data Science/Titanic Dataset.csv')"
   ]
  },
  {
   "cell_type": "code",
   "execution_count": 63,
   "metadata": {},
   "outputs": [
    {
     "name": "stdout",
     "output_type": "stream",
     "text": [
      "Shape of the dataset: (418, 12)\n",
      "Columns: Index(['PassengerId', 'Survived', 'Pclass', 'Name', 'Sex', 'Age', 'SibSp',\n",
      "       'Parch', 'Ticket', 'Fare', 'Cabin', 'Embarked'],\n",
      "      dtype='object')\n",
      "Head:\n",
      "    PassengerId  Survived  Pclass  \\\n",
      "0          892         0       3   \n",
      "1          893         1       3   \n",
      "2          894         0       2   \n",
      "3          895         0       3   \n",
      "4          896         1       3   \n",
      "\n",
      "                                           Name     Sex   Age  SibSp  Parch  \\\n",
      "0                              Kelly, Mr. James    male  34.5      0      0   \n",
      "1              Wilkes, Mrs. James (Ellen Needs)  female  47.0      1      0   \n",
      "2                     Myles, Mr. Thomas Francis    male  62.0      0      0   \n",
      "3                              Wirz, Mr. Albert    male  27.0      0      0   \n",
      "4  Hirvonen, Mrs. Alexander (Helga E Lindqvist)  female  22.0      1      1   \n",
      "\n",
      "    Ticket     Fare Cabin Embarked  \n",
      "0   330911   7.8292   NaN        Q  \n",
      "1   363272   7.0000   NaN        S  \n",
      "2   240276   9.6875   NaN        Q  \n",
      "3   315154   8.6625   NaN        S  \n",
      "4  3101298  12.2875   NaN        S  \n",
      "Summary Statistics:\n",
      "        PassengerId    Survived      Pclass         Age       SibSp  \\\n",
      "count   418.000000  418.000000  418.000000  332.000000  418.000000   \n",
      "mean   1100.500000    0.363636    2.265550   30.272590    0.447368   \n",
      "std     120.810458    0.481622    0.841838   14.181209    0.896760   \n",
      "min     892.000000    0.000000    1.000000    0.170000    0.000000   \n",
      "25%     996.250000    0.000000    1.000000   21.000000    0.000000   \n",
      "50%    1100.500000    0.000000    3.000000   27.000000    0.000000   \n",
      "75%    1204.750000    1.000000    3.000000   39.000000    1.000000   \n",
      "max    1309.000000    1.000000    3.000000   76.000000    8.000000   \n",
      "\n",
      "            Parch        Fare  \n",
      "count  418.000000  417.000000  \n",
      "mean     0.392344   35.627188  \n",
      "std      0.981429   55.907576  \n",
      "min      0.000000    0.000000  \n",
      "25%      0.000000    7.895800  \n",
      "50%      0.000000   14.454200  \n",
      "75%      0.000000   31.500000  \n",
      "max      9.000000  512.329200  \n"
     ]
    }
   ],
   "source": [
    "#Basic Data Summary\n",
    "\n",
    "# Display the shape of the dataset\n",
    "print(\"Shape of the dataset:\", df.shape)\n",
    "\n",
    "# Display the column names\n",
    "print(\"Columns:\", df.columns)\n",
    "\n",
    "# Display the first few rows of the dataset\n",
    "print(\"Head:\\n\", df.head())\n",
    "\n",
    "# Display the summary statistics of the dataset\n",
    "print(\"Summary Statistics:\\n\", df.describe())"
   ]
  },
  {
   "cell_type": "code",
   "execution_count": 5,
   "metadata": {},
   "outputs": [],
   "source": [
    "# Survive is the Target Variable"
   ]
  },
  {
   "cell_type": "code",
   "execution_count": 64,
   "metadata": {},
   "outputs": [
    {
     "name": "stdout",
     "output_type": "stream",
     "text": [
      "Missing Values:\n",
      "        Missing Values  Missing Percentage\n",
      "Cabin             327           78.229665\n",
      "Age                86           20.574163\n",
      "Fare                1            0.239234\n"
     ]
    }
   ],
   "source": [
    "# Null Value Analysis \n",
    "\n",
    "# Count the number of missing values in each column\n",
    "missing_values = df.isnull().sum()\n",
    "\n",
    "# Sort columns based on the number of missing values\n",
    "missing_values = missing_values[missing_values > 0].sort_values(ascending=False)\n",
    "\n",
    "# Calculate the percentage of missing values\n",
    "missing_percentage = (missing_values / len(df)) * 100\n",
    "\n",
    "# Create a DataFrame to display missing value information\n",
    "missing_data = pd.DataFrame({\n",
    "    'Missing Values': missing_values,\n",
    "    'Missing Percentage': missing_percentage\n",
    "})\n",
    "\n",
    "# Display the missing value information\n",
    "print(\"Missing Values:\\n\", missing_data)"
   ]
  },
  {
   "cell_type": "code",
   "execution_count": 65,
   "metadata": {},
   "outputs": [],
   "source": [
    "# Drop the 'Cabin' column\n",
    "df = df.drop(columns=['Cabin'], axis=1)\n"
   ]
  },
  {
   "cell_type": "code",
   "execution_count": 66,
   "metadata": {},
   "outputs": [],
   "source": [
    "# Impute missing ages based on median age in the same Pclass\n",
    "df['Age'] = df.groupby('Pclass')['Age'].transform(lambda x: x.fillna(x.median()))\n"
   ]
  },
  {
   "cell_type": "code",
   "execution_count": 67,
   "metadata": {},
   "outputs": [],
   "source": [
    "# Impute the missing fare with the median fare\n",
    "df['Fare'] = df['Fare'].fillna(df['Fare'].median())\n"
   ]
  },
  {
   "cell_type": "code",
   "execution_count": 68,
   "metadata": {},
   "outputs": [],
   "source": [
    "# Calculate IQR for 'Age' column\n",
    "Q1 = df['Age'].quantile(0.25)\n",
    "Q3 = df['Age'].quantile(0.75)\n",
    "IQR = Q3 - Q1\n",
    "\n",
    "# Define upper and lower bounds for outliers\n",
    "lower_bound = Q1 - 1.5 * IQR\n",
    "upper_bound = Q3 + 1.5 * IQR\n",
    "\n",
    "# Identify and handle outliers by capping values\n",
    "df['Age'] = df['Age'].apply(lambda x: upper_bound if x > upper_bound else (lower_bound if x < lower_bound else x))\n"
   ]
  },
  {
   "cell_type": "code",
   "execution_count": 69,
   "metadata": {},
   "outputs": [
    {
     "data": {
      "image/png": "[encoded data removed]",
      "text/plain": [
       "<Figure size 800x600 with 1 Axes>"
      ]
     },
     "metadata": {},
     "output_type": "display_data"
    }
   ],
   "source": [
    "# Checking if the classification is balanced or not?\n",
    "\n",
    "# Count the occurrences of each class in the target variable\n",
    "class_counts = df['Survived'].value_counts()\n",
    "\n",
    "# Calculate the class proportions\n",
    "class_proportions = class_counts / len(df) * 100\n",
    "\n",
    "# Plot the class distribution\n",
    "plt.figure(figsize=(8, 6))\n",
    "sns.barplot(x=class_counts.index, y=class_proportions)\n",
    "plt.title(\"Class Distribution\")\n",
    "plt.xlabel(\"Class\")\n",
    "plt.ylabel(\"Proportion (%)\")\n",
    "plt.show()"
   ]
  },
  {
   "cell_type": "code",
   "execution_count": 70,
   "metadata": {},
   "outputs": [],
   "source": [
    "# Now using Undersampling technique from resampling to balance 0 and 1\n",
    "\n",
    "# Separate the majority and minority class examples\n",
    "majority_class = df[df['Survived'] == 0]\n",
    "minority_class = df[df['Survived'] == 1]\n",
    "\n",
    "# Determine the desired number of samples in the majority class\n",
    "desired_samples = len(minority_class)\n",
    "\n",
    "# Undersample the majority class\n",
    "undersampled_majority = majority_class.sample(n=desired_samples, random_state=42)\n",
    "\n",
    "# Combine the undersampled majority class and the minority class\n",
    "undersampled_data = pd.concat([undersampled_majority, minority_class])\n",
    "\n",
    "# Shuffle the undersampled data\n",
    "undersampled_data = undersampled_data.sample(frac=1, random_state=42)\n"
   ]
  },
  {
   "cell_type": "code",
   "execution_count": 17,
   "metadata": {},
   "outputs": [
    {
     "data": {
      "image/png": "[encoded data removed]",
      "text/plain": [
       "<Figure size 800x600 with 1 Axes>"
      ]
     },
     "metadata": {},
     "output_type": "display_data"
    }
   ],
   "source": [
    "#rechecking if it is balanced\n",
    "\n",
    "# Count the occurrences of each class in the undersampled data\n",
    "class_counts = undersampled_data['Survived'].value_counts()\n",
    "\n",
    "# Calculate the class proportions\n",
    "class_proportions = class_counts / len(undersampled_data) * 100\n",
    "\n",
    "# Plot the class distribution\n",
    "plt.figure(figsize=(8, 6))\n",
    "sns.barplot(x=class_counts.index, y=class_proportions)\n",
    "plt.title(\"Class Distribution (After Undersampling)\")\n",
    "plt.xlabel(\"Class\")\n",
    "plt.ylabel(\"Proportion (%)\")\n",
    "plt.show()"
   ]
  },
  {
   "cell_type": "code",
   "execution_count": 71,
   "metadata": {},
   "outputs": [
    {
     "data": {
      "image/png": "[encoded data removed]",
      "text/plain": [
       "<Figure size 1200x1000 with 2 Axes>"
      ]
     },
     "metadata": {},
     "output_type": "display_data"
    }
   ],
   "source": [
    "# Correlation matrix heatmap\n",
    "plt.figure(figsize=(12, 10))\n",
    "sns.heatmap(undersampled_data.corr(), annot=True, cmap='coolwarm')\n",
    "plt.title(\"Correlation Matrix Heatmap\")\n",
    "plt.show()"
   ]
  },
  {
   "cell_type": "code",
   "execution_count": 73,
   "metadata": {},
   "outputs": [],
   "source": [
    "# Save the undersampled dataset to a CSV file\n",
    "undersampled_data.to_csv(\"D:/CodSoft/Data Science/undersampled_dataset.csv\", index=False)"
   ]
  },
  {
   "cell_type": "code",
   "execution_count": 74,
   "metadata": {},
   "outputs": [
    {
     "name": "stdout",
     "output_type": "stream",
     "text": [
      "Categorical Columns: ['Name', 'Sex', 'Ticket', 'Embarked']\n"
     ]
    }
   ],
   "source": [
    "# Identify columns with non-numeric values\n",
    "categorical_columns = []\n",
    "for column in undersampled_data.columns:\n",
    "    if undersampled_data[column].dtype == 'object':  # Check if data type is 'object' (string)\n",
    "        categorical_columns.append(column)\n",
    "\n",
    "print(\"Categorical Columns:\", categorical_columns)"
   ]
  },
  {
   "cell_type": "code",
   "execution_count": 83,
   "metadata": {},
   "outputs": [
    {
     "name": "stdout",
     "output_type": "stream",
     "text": [
      "     PassengerId  Survived  Pclass      Age  SibSp  Parch     Fare  \\\n",
      "72           964         1       3  29.0000      0      0   7.9250   \n",
      "6            898         1       3  30.0000      0      0   7.6292   \n",
      "137         1029         0       2  26.0000      0      0  13.0000   \n",
      "249         1141         1       3  24.0000      1      0  14.4542   \n",
      "236         1128         0       1  56.4375      1      0  75.2500   \n",
      "\n",
      "     Name_Abelseth, Miss. Karen Marie  Name_Abelseth, Mr. Olaus Jorgensen  \\\n",
      "72                                  0                                   0   \n",
      "6                                   0                                   0   \n",
      "137                                 0                                   0   \n",
      "249                                 0                                   0   \n",
      "236                                 0                                   0   \n",
      "\n",
      "     Name_Abrahamsson, Mr. Abraham August Johannes  ...  \\\n",
      "72                                               0  ...   \n",
      "6                                                0  ...   \n",
      "137                                              0  ...   \n",
      "249                                              0  ...   \n",
      "236                                              0  ...   \n",
      "\n",
      "     Ticket_STON/O2. 3101270  Ticket_STON/OQ. 369943  Ticket_W./C. 14260  \\\n",
      "72                         0                       0                   0   \n",
      "6                          0                       0                   0   \n",
      "137                        0                       0                   0   \n",
      "249                        0                       0                   0   \n",
      "236                        0                       0                   0   \n",
      "\n",
      "     Ticket_W./C. 14266  Ticket_W./C. 6607  Ticket_W./C. 6608  \\\n",
      "72                    0                  0                  0   \n",
      "6                     0                  0                  0   \n",
      "137                   0                  0                  0   \n",
      "249                   0                  0                  0   \n",
      "236                   0                  0                  0   \n",
      "\n",
      "     Ticket_W.E.P. 5734  Embarked_C  Embarked_Q  Embarked_S  \n",
      "72                    0           0           0           1  \n",
      "6                     0           0           1           0  \n",
      "137                   0           0           0           1  \n",
      "249                   0           1           0           0  \n",
      "236                   0           1           0           0  \n",
      "\n",
      "[5 rows x 591 columns]\n"
     ]
    }
   ],
   "source": [
    "# Perform one-hot encoding for non-numeric columns\n",
    "encoded_data = pd.get_dummies(undersampled_data, columns=categorical_columns)\n",
    "\n",
    "# Display the first few rows of the encoded data\n",
    "print(encoded_data.head())"
   ]
  },
  {
   "cell_type": "code",
   "execution_count": 85,
   "metadata": {},
   "outputs": [],
   "source": [
    "# Separate the features (X) and target variable (Y)\n",
    "X = encoded_data.drop('Survived', axis=1)\n",
    "Y = encoded_data['Survived']"
   ]
  },
  {
   "cell_type": "code",
   "execution_count": 86,
   "metadata": {},
   "outputs": [],
   "source": [
    "from sklearn.preprocessing import StandardScaler\n",
    "\n",
    "# Select the numerical columns for feature scaling\n",
    "numerical_columns = X.select_dtypes(include=np.number).columns\n",
    "\n",
    "# Create an instance of StandardScaler\n",
    "scaler = StandardScaler()\n",
    "\n",
    "# Fit the scaler on the numerical features and transform them\n",
    "X[numerical_columns] = scaler.fit_transform(X[numerical_columns])"
   ]
  },
  {
   "cell_type": "code",
   "execution_count": 87,
   "metadata": {},
   "outputs": [],
   "source": [
    "from sklearn.model_selection import train_test_split\n",
    "\n",
    "# Split the undersampled dataset into training and testing sets\n",
    "X_train, X_test, Y_train, Y_test = train_test_split(X, Y, test_size=0.2, random_state=42)"
   ]
  },
  {
   "cell_type": "code",
   "execution_count": 88,
   "metadata": {},
   "outputs": [],
   "source": [
    "import pandas as pd\n",
    "from sklearn.model_selection import train_test_split\n",
    "from sklearn.metrics import accuracy_score, precision_score, recall_score, f1_score\n",
    "from sklearn.ensemble import BaggingClassifier, RandomForestClassifier, VotingClassifier\n",
    "from sklearn.linear_model import LogisticRegression\n",
    "from sklearn.tree import DecisionTreeClassifier\n",
    "from sklearn.svm import SVC\n",
    "\n",
    "from sklearn.linear_model import LogisticRegression\n",
    "\n",
    "# Initialize Logistic Regression model\n",
    "logistic_regression = LogisticRegression()\n",
    "\n",
    "from sklearn.tree import DecisionTreeClassifier\n",
    "\n",
    "# Initialize Decision Tree model\n",
    "decision_tree = DecisionTreeClassifier()\n",
    "\n",
    "from sklearn.ensemble import RandomForestClassifier\n",
    "\n",
    "# Initialize Random Forest model\n",
    "random_forest = RandomForestClassifier()\n",
    "\n",
    "from sklearn.ensemble import GradientBoostingClassifier\n",
    "\n",
    "# Initialize Gradient Boosting model\n",
    "gradient_boosting = GradientBoostingClassifier()\n",
    "\n",
    "from sklearn.svm import SVC\n",
    "\n",
    "# Initialize Support Vector Machines model\n",
    "svm = SVC()\n",
    "\n",
    "from sklearn.neural_network import MLPClassifier\n",
    "\n",
    "# Initialize Multi-layer Perceptron (Neural Network) model\n",
    "mlp = MLPClassifier()\n"
   ]
  },
  {
   "cell_type": "code",
   "execution_count": 89,
   "metadata": {},
   "outputs": [
    {
     "data": {
      "text/html": [
       "<style>#sk-container-id-2 {color: black;background-color: white;}#sk-container-id-2 pre{padding: 0;}#sk-container-id-2 div.sk-toggleable {background-color: white;}#sk-container-id-2 label.sk-toggleable__label {cursor: pointer;display: block;width: 100%;margin-bottom: 0;padding: 0.3em;box-sizing: border-box;text-align: center;}#sk-container-id-2 label.sk-toggleable__label-arrow:before {content: \"▸\";float: left;margin-right: 0.25em;color: #696969;}#sk-container-id-2 label.sk-toggleable__label-arrow:hover:before {color: black;}#sk-container-id-2 div.sk-estimator:hover label.sk-toggleable__label-arrow:before {color: black;}#sk-container-id-2 div.sk-toggleable__content {max-height: 0;max-width: 0;overflow: hidden;text-align: left;background-color: #f0f8ff;}#sk-container-id-2 div.sk-toggleable__content pre {margin: 0.2em;color: black;border-radius: 0.25em;background-color: #f0f8ff;}#sk-container-id-2 input.sk-toggleable__control:checked~div.sk-toggleable__content {max-height: 200px;max-width: 100%;overflow: auto;}#sk-container-id-2 input.sk-toggleable__control:checked~label.sk-toggleable__label-arrow:before {content: \"▾\";}#sk-container-id-2 div.sk-estimator input.sk-toggleable__control:checked~label.sk-toggleable__label {background-color: #d4ebff;}#sk-container-id-2 div.sk-label input.sk-toggleable__control:checked~label.sk-toggleable__label {background-color: #d4ebff;}#sk-container-id-2 input.sk-hidden--visually {border: 0;clip: rect(1px 1px 1px 1px);clip: rect(1px, 1px, 1px, 1px);height: 1px;margin: -1px;overflow: hidden;padding: 0;position: absolute;width: 1px;}#sk-container-id-2 div.sk-estimator {font-family: monospace;background-color: #f0f8ff;border: 1px dotted black;border-radius: 0.25em;box-sizing: border-box;margin-bottom: 0.5em;}#sk-container-id-2 div.sk-estimator:hover {background-color: #d4ebff;}#sk-container-id-2 div.sk-parallel-item::after {content: \"\";width: 100%;border-bottom: 1px solid gray;flex-grow: 1;}#sk-container-id-2 div.sk-label:hover label.sk-toggleable__label {background-color: #d4ebff;}#sk-container-id-2 div.sk-serial::before {content: \"\";position: absolute;border-left: 1px solid gray;box-sizing: border-box;top: 0;bottom: 0;left: 50%;z-index: 0;}#sk-container-id-2 div.sk-serial {display: flex;flex-direction: column;align-items: center;background-color: white;padding-right: 0.2em;padding-left: 0.2em;position: relative;}#sk-container-id-2 div.sk-item {position: relative;z-index: 1;}#sk-container-id-2 div.sk-parallel {display: flex;align-items: stretch;justify-content: center;background-color: white;position: relative;}#sk-container-id-2 div.sk-item::before, #sk-container-id-2 div.sk-parallel-item::before {content: \"\";position: absolute;border-left: 1px solid gray;box-sizing: border-box;top: 0;bottom: 0;left: 50%;z-index: -1;}#sk-container-id-2 div.sk-parallel-item {display: flex;flex-direction: column;z-index: 1;position: relative;background-color: white;}#sk-container-id-2 div.sk-parallel-item:first-child::after {align-self: flex-end;width: 50%;}#sk-container-id-2 div.sk-parallel-item:last-child::after {align-self: flex-start;width: 50%;}#sk-container-id-2 div.sk-parallel-item:only-child::after {width: 0;}#sk-container-id-2 div.sk-dashed-wrapped {border: 1px dashed gray;margin: 0 0.4em 0.5em 0.4em;box-sizing: border-box;padding-bottom: 0.4em;background-color: white;}#sk-container-id-2 div.sk-label label {font-family: monospace;font-weight: bold;display: inline-block;line-height: 1.2em;}#sk-container-id-2 div.sk-label-container {text-align: center;}#sk-container-id-2 div.sk-container {/* jupyter's `normalize.less` sets `[hidden] { display: none; }` but bootstrap.min.css set `[hidden] { display: none !important; }` so we also need the `!important` here to be able to override the default hidden behavior on the sphinx rendered scikit-learn.org. See: https://github.com/scikit-learn/scikit-learn/issues/21755 */display: inline-block !important;position: relative;}#sk-container-id-2 div.sk-text-repr-fallback {display: none;}</style><div id=\"sk-container-id-2\" class=\"sk-top-container\"><div class=\"sk-text-repr-fallback\"><pre>MLPClassifier()</pre><b>In a Jupyter environment, please rerun this cell to show the HTML representation or trust the notebook. <br />On GitHub, the HTML representation is unable to render, please try loading this page with nbviewer.org.</b></div><div class=\"sk-container\" hidden><div class=\"sk-item\"><div class=\"sk-estimator sk-toggleable\"><input class=\"sk-toggleable__control sk-hidden--visually\" id=\"sk-estimator-id-2\" type=\"checkbox\" checked><label for=\"sk-estimator-id-2\" class=\"sk-toggleable__label sk-toggleable__label-arrow\">MLPClassifier</label><div class=\"sk-toggleable__content\"><pre>MLPClassifier()</pre></div></div></div></div></div>"
      ],
      "text/plain": [
       "MLPClassifier()"
      ]
     },
     "execution_count": 89,
     "metadata": {},
     "output_type": "execute_result"
    }
   ],
   "source": [
    "# Initialize models\n",
    "logistic_regression = LogisticRegression()\n",
    "decision_tree = DecisionTreeClassifier()\n",
    "random_forest = RandomForestClassifier()\n",
    "svm = SVC()\n",
    "mlp = MLPClassifier()\n",
    "\n",
    "# Train the models\n",
    "logistic_regression.fit(X_train, Y_train)\n",
    "decision_tree.fit(X_train, Y_train)\n",
    "random_forest.fit(X_train, Y_train)\n",
    "svm.fit(X_train, Y_train)\n",
    "mlp.fit(X_train, Y_train)"
   ]
  },
  {
   "cell_type": "code",
   "execution_count": 90,
   "metadata": {},
   "outputs": [],
   "source": [
    "# Make predictions on the testing set\n",
    "logistic_regression_predictions = logistic_regression.predict(X_test)\n",
    "decision_tree_predictions = decision_tree.predict(X_test)\n",
    "random_forest_predictions = random_forest.predict(X_test)\n",
    "svm_predictions = svm.predict(X_test)\n",
    "mlp_predictions = mlp.predict(X_test)"
   ]
  },
  {
   "cell_type": "code",
   "execution_count": 91,
   "metadata": {},
   "outputs": [],
   "source": [
    "from sklearn.metrics import accuracy_score\n",
    "\n",
    "# Calculate accuracy for each model\n",
    "logistic_regression_accuracy = accuracy_score(Y_test, logistic_regression_predictions)\n",
    "decision_tree_accuracy = accuracy_score(Y_test, decision_tree_predictions)\n",
    "random_forest_accuracy = accuracy_score(Y_test, random_forest_predictions)\n",
    "svm_accuracy = accuracy_score(Y_test, svm_predictions)\n",
    "mlp_accuracy = accuracy_score(Y_test, mlp_predictions)\n"
   ]
  },
  {
   "cell_type": "code",
   "execution_count": 92,
   "metadata": {},
   "outputs": [],
   "source": [
    "from sklearn.metrics import confusion_matrix\n",
    "\n",
    "# Calculate confusion matrix for each model\n",
    "logistic_regression_cm = confusion_matrix(Y_test, logistic_regression_predictions)\n",
    "decision_tree_cm = confusion_matrix(Y_test, decision_tree_predictions)\n",
    "random_forest_cm = confusion_matrix(Y_test, random_forest_predictions)\n",
    "svm_cm = confusion_matrix(Y_test, svm_predictions)\n",
    "mlp_cm = confusion_matrix(Y_test, mlp_predictions)\n"
   ]
  },
  {
   "cell_type": "code",
   "execution_count": 93,
   "metadata": {},
   "outputs": [],
   "source": [
    "from sklearn.metrics import classification_report\n",
    "\n",
    "# Calculate precision, recall, and f1-score for each model\n",
    "logistic_regression_report = classification_report(Y_test, logistic_regression_predictions)\n",
    "decision_tree_report = classification_report(Y_test, decision_tree_predictions)\n",
    "random_forest_report = classification_report(Y_test, random_forest_predictions)\n",
    "svm_report = classification_report(Y_test, svm_predictions)\n",
    "mlp_report = classification_report(Y_test, mlp_predictions)\n"
   ]
  },
  {
   "cell_type": "code",
   "execution_count": 94,
   "metadata": {},
   "outputs": [],
   "source": [
    "from sklearn.metrics import roc_auc_score\n",
    "\n",
    "# Calculate ROC AUC for each model\n",
    "logistic_regression_roc_auc = roc_auc_score(Y_test, logistic_regression_predictions)\n",
    "decision_tree_roc_auc = roc_auc_score(Y_test, decision_tree_predictions)\n",
    "random_forest_roc_auc = roc_auc_score(Y_test, random_forest_predictions)\n",
    "svm_roc_auc = roc_auc_score(Y_test, svm_predictions)\n",
    "mlp_roc_auc = roc_auc_score(Y_test, mlp_predictions)\n"
   ]
  },
  {
   "cell_type": "code",
   "execution_count": 95,
   "metadata": {},
   "outputs": [
    {
     "name": "stdout",
     "output_type": "stream",
     "text": [
      "Model: Logistic Regression\n",
      "Accuracy: 1.0\n",
      "Confusion Matrix:\n",
      " [[27  0]\n",
      " [ 0 34]]\n",
      "Classification Report:\n",
      "               precision    recall  f1-score   support\n",
      "\n",
      "           0       1.00      1.00      1.00        27\n",
      "           1       1.00      1.00      1.00        34\n",
      "\n",
      "    accuracy                           1.00        61\n",
      "   macro avg       1.00      1.00      1.00        61\n",
      "weighted avg       1.00      1.00      1.00        61\n",
      "\n",
      "ROC AUC: 1.0\n",
      "-----------------------------------\n",
      "\n",
      "Model: Decision Tree\n",
      "Accuracy: 1.0\n",
      "Confusion Matrix:\n",
      " [[27  0]\n",
      " [ 0 34]]\n",
      "Classification Report:\n",
      "               precision    recall  f1-score   support\n",
      "\n",
      "           0       1.00      1.00      1.00        27\n",
      "           1       1.00      1.00      1.00        34\n",
      "\n",
      "    accuracy                           1.00        61\n",
      "   macro avg       1.00      1.00      1.00        61\n",
      "weighted avg       1.00      1.00      1.00        61\n",
      "\n",
      "ROC AUC: 1.0\n",
      "-----------------------------------\n",
      "\n",
      "Model: Random Forest\n",
      "Accuracy: 1.0\n",
      "Confusion Matrix:\n",
      " [[27  0]\n",
      " [ 0 34]]\n",
      "Classification Report:\n",
      "               precision    recall  f1-score   support\n",
      "\n",
      "           0       1.00      1.00      1.00        27\n",
      "           1       1.00      1.00      1.00        34\n",
      "\n",
      "    accuracy                           1.00        61\n",
      "   macro avg       1.00      1.00      1.00        61\n",
      "weighted avg       1.00      1.00      1.00        61\n",
      "\n",
      "ROC AUC: 1.0\n",
      "-----------------------------------\n",
      "\n",
      "Model: SVM\n",
      "Accuracy: 0.9836065573770492\n",
      "Confusion Matrix:\n",
      " [[26  1]\n",
      " [ 0 34]]\n",
      "Classification Report:\n",
      "               precision    recall  f1-score   support\n",
      "\n",
      "           0       1.00      0.96      0.98        27\n",
      "           1       0.97      1.00      0.99        34\n",
      "\n",
      "    accuracy                           0.98        61\n",
      "   macro avg       0.99      0.98      0.98        61\n",
      "weighted avg       0.98      0.98      0.98        61\n",
      "\n",
      "ROC AUC: 0.9814814814814815\n",
      "-----------------------------------\n",
      "\n",
      "Model: MLP\n",
      "Accuracy: 0.4426229508196721\n",
      "Confusion Matrix:\n",
      " [[22  5]\n",
      " [29  5]]\n",
      "Classification Report:\n",
      "               precision    recall  f1-score   support\n",
      "\n",
      "           0       0.43      0.81      0.56        27\n",
      "           1       0.50      0.15      0.23        34\n",
      "\n",
      "    accuracy                           0.44        61\n",
      "   macro avg       0.47      0.48      0.40        61\n",
      "weighted avg       0.47      0.44      0.38        61\n",
      "\n",
      "ROC AUC: 0.4809368191721133\n",
      "-----------------------------------\n",
      "\n"
     ]
    }
   ],
   "source": [
    "from sklearn.metrics import accuracy_score, confusion_matrix, classification_report, roc_auc_score\n",
    "\n",
    "# Evaluate and print the performance of individual models\n",
    "models = {\n",
    "    'Logistic Regression': logistic_regression,\n",
    "    'Decision Tree': decision_tree,\n",
    "    'Random Forest': random_forest,\n",
    "    'SVM': svm,\n",
    "    'MLP': mlp\n",
    "}\n",
    "\n",
    "for model_name, model in models.items():\n",
    "    # Make predictions on the testing set\n",
    "    predictions = model.predict(X_test)\n",
    "\n",
    "    # Calculate evaluation metrics\n",
    "    accuracy = accuracy_score(Y_test, predictions)\n",
    "    cm = confusion_matrix(Y_test, predictions)\n",
    "    report = classification_report(Y_test, predictions)\n",
    "    roc_auc = roc_auc_score(Y_test, predictions)\n",
    "\n",
    "    # Print the evaluation results for each model\n",
    "    print(\"Model:\", model_name)\n",
    "    print(\"Accuracy:\", accuracy)\n",
    "    print(\"Confusion Matrix:\\n\", cm)\n",
    "    print(\"Classification Report:\\n\", report)\n",
    "    print(\"ROC AUC:\", roc_auc)\n",
    "    print(\"-----------------------------------\\n\")\n"
   ]
  },
  {
   "cell_type": "code",
   "execution_count": 96,
   "metadata": {},
   "outputs": [
    {
     "name": "stdout",
     "output_type": "stream",
     "text": [
      "Bagging Ensemble Model\n",
      "Accuracy: 1.0\n",
      "Confusion Matrix:\n",
      " [[27  0]\n",
      " [ 0 34]]\n",
      "Classification Report:\n",
      "               precision    recall  f1-score   support\n",
      "\n",
      "           0       1.00      1.00      1.00        27\n",
      "           1       1.00      1.00      1.00        34\n",
      "\n",
      "    accuracy                           1.00        61\n",
      "   macro avg       1.00      1.00      1.00        61\n",
      "weighted avg       1.00      1.00      1.00        61\n",
      "\n",
      "ROC AUC: 1.0\n"
     ]
    }
   ],
   "source": [
    "from sklearn.ensemble import BaggingClassifier\n",
    "\n",
    "# Initialize the base classifier\n",
    "base_classifier = DecisionTreeClassifier()\n",
    "\n",
    "# Initialize the BaggingClassifier\n",
    "bagging_model = BaggingClassifier(base_classifier, n_estimators=10, random_state=42)\n",
    "\n",
    "# Train the BaggingClassifier\n",
    "bagging_model.fit(X_train, Y_train)\n",
    "\n",
    "# Make predictions on the testing set\n",
    "bagging_predictions = bagging_model.predict(X_test)\n",
    "\n",
    "# Evaluate the BaggingClassifier\n",
    "bagging_accuracy = accuracy_score(Y_test, bagging_predictions)\n",
    "bagging_cm = confusion_matrix(Y_test, bagging_predictions)\n",
    "bagging_report = classification_report(Y_test, bagging_predictions)\n",
    "bagging_roc_auc = roc_auc_score(Y_test, bagging_predictions)\n",
    "\n",
    "# Print the evaluation results for the BaggingClassifier\n",
    "print(\"Bagging Ensemble Model\")\n",
    "print(\"Accuracy:\", bagging_accuracy)\n",
    "print(\"Confusion Matrix:\\n\", bagging_cm)\n",
    "print(\"Classification Report:\\n\", bagging_report)\n",
    "print(\"ROC AUC:\", bagging_roc_auc)\n"
   ]
  },
  {
   "cell_type": "code",
   "execution_count": 97,
   "metadata": {},
   "outputs": [
    {
     "name": "stdout",
     "output_type": "stream",
     "text": [
      "Voting Ensemble Model\n",
      "Accuracy: 1.0\n",
      "Confusion Matrix:\n",
      " [[27  0]\n",
      " [ 0 34]]\n",
      "Classification Report:\n",
      "               precision    recall  f1-score   support\n",
      "\n",
      "           0       1.00      1.00      1.00        27\n",
      "           1       1.00      1.00      1.00        34\n",
      "\n",
      "    accuracy                           1.00        61\n",
      "   macro avg       1.00      1.00      1.00        61\n",
      "weighted avg       1.00      1.00      1.00        61\n",
      "\n",
      "ROC AUC: 1.0\n"
     ]
    }
   ],
   "source": [
    "from sklearn.ensemble import VotingClassifier\n",
    "\n",
    "# Initialize individual classifiers\n",
    "classifiers = [\n",
    "    ('Logistic Regression', logistic_regression),\n",
    "    ('Decision Tree', decision_tree),\n",
    "    ('Random Forest', random_forest),\n",
    "    ('SVM', svm),\n",
    "    ('MLP', mlp)\n",
    "]\n",
    "\n",
    "# Initialize the VotingClassifier\n",
    "voting_model = VotingClassifier(classifiers)\n",
    "\n",
    "# Train the VotingClassifier\n",
    "voting_model.fit(X_train, Y_train)\n",
    "\n",
    "# Make predictions on the testing set\n",
    "voting_predictions = voting_model.predict(X_test)\n",
    "\n",
    "# Evaluate the VotingClassifier\n",
    "voting_accuracy = accuracy_score(Y_test, voting_predictions)\n",
    "voting_cm = confusion_matrix(Y_test, voting_predictions)\n",
    "voting_report = classification_report(Y_test, voting_predictions)\n",
    "voting_roc_auc = roc_auc_score(Y_test, voting_predictions)\n",
    "\n",
    "# Print the evaluation results for the VotingClassifier\n",
    "print(\"Voting Ensemble Model\")\n",
    "print(\"Accuracy:\", voting_accuracy)\n",
    "print(\"Confusion Matrix:\\n\", voting_cm)\n",
    "print(\"Classification Report:\\n\", voting_report)\n",
    "print(\"ROC AUC:\", voting_roc_auc)\n"
   ]
  },
  {
   "cell_type": "code",
   "execution_count": 98,
   "metadata": {},
   "outputs": [
    {
     "name": "stdout",
     "output_type": "stream",
     "text": [
      "Best Model: Logistic Regression\n",
      "Best Accuracy: 1.0\n"
     ]
    }
   ],
   "source": [
    "# Dictionary to store model accuracies\n",
    "model_accuracies = {\n",
    "    'Logistic Regression': logistic_regression_accuracy,\n",
    "    'Decision Tree': decision_tree_accuracy,\n",
    "    'Random Forest': random_forest_accuracy,\n",
    "    'SVM': svm_accuracy,\n",
    "    'MLP': mlp_accuracy,\n",
    "    'Bagging Ensemble': bagging_accuracy,\n",
    "    'Voting Ensemble': voting_accuracy\n",
    "}\n",
    "\n",
    "# Find the model with the highest accuracy\n",
    "best_model = max(model_accuracies, key=model_accuracies.get)\n",
    "best_accuracy = model_accuracies[best_model]\n",
    "\n",
    "# Print the best model and its accuracy\n",
    "print(\"Best Model:\", best_model)\n",
    "print(\"Best Accuracy:\", best_accuracy)\n"
   ]
  },
  {
   "cell_type": "code",
   "execution_count": 99,
   "metadata": {},
   "outputs": [
    {
     "data": {
      "text/plain": [
       "['best_model.joblib']"
      ]
     },
     "execution_count": 99,
     "metadata": {},
     "output_type": "execute_result"
    }
   ],
   "source": [
    "from joblib import dump\n",
    "\n",
    "# Save the best model to a file\n",
    "dump(bagging_model, 'best_model.joblib')"
   ]
  },
  {
   "cell_type": "code",
   "execution_count": 100,
   "metadata": {},
   "outputs": [],
   "source": [
    "from joblib import load\n",
    "\n",
    "# Load the best model from a file\n",
    "loaded_model = load('best_model.joblib')"
   ]
  },
  {
   "cell_type": "code",
   "execution_count": 101,
   "metadata": {},
   "outputs": [
    {
     "name": "stdout",
     "output_type": "stream",
     "text": [
      "BaggingClassifier(estimator=DecisionTreeClassifier(), random_state=42)\n"
     ]
    }
   ],
   "source": [
    "print(loaded_model)"
   ]
  },
  {
   "cell_type": "code",
   "execution_count": 105,
   "metadata": {},
   "outputs": [
    {
     "name": "stdout",
     "output_type": "stream",
     "text": [
      "Predictions for the new dataset:\n",
      "[1 1 0 1 0 0 0 1 1 0 0 0 0 1 0 0 0 1 1 0 1 1 1 0 0 1 1 0 1 0 0 1 1 0 0 1 0\n",
      " 0 0 0 0 0 1 0 0 1 1 0 1 1 1 1 0 0 1 1 1 0 1 1 1 1 1 1 0 1 0 0 0 1 0 0 1 0\n",
      " 1 0 0 1 1 1 1 1 0 0 0 1 0 0 0 0 1 0 0 0 0 1 1 0 0 1 0 0 0 1 1 0 0 0 0 1 1\n",
      " 1 1 0 1 0 0 1 0 1 1 1 1 1 0 1 0 1 1 1 1 0 0 1 1 1 0 1 0 1 1 1 1 1 0 0 0 1\n",
      " 0 1 1 0 0 0 0 1 0 1 1 0 1 1 0 1 0 1 1 0 0 0 0 1 0 1 0 0 1 1 0 0 1 0 0 1 0\n",
      " 1 0 1 1 0 1 0 1 0 0 0 0 1 1 1 0 1 1 1 0 1 0 0 0 1 1 1 1 0 0 0 0 1 0 0 1 0\n",
      " 0 1 1 0 0 1 1 1 0 1 0 0 1 1 0 1 1 1 1 0 0 0 1 1 1 1 1 0 1 0 1 1 1 0 0 0 0\n",
      " 0 0 1 0 0 0 1 1 0 0 1 1 0 1 1 0 0 1 1 1 1 1 0 0 1 1 0 1 1 1 1 0 0 0 0 0 1\n",
      " 0 1 0 1 0 0 1 0]\n"
     ]
    }
   ],
   "source": [
    "# Apply the saved model to make predictions on the new dataset\n",
    "new_X = encoded_data.drop('Survived', axis=1)  \n",
    "new_predictions = loaded_model.predict(new_X)\n",
    "\n",
    "# Print the predictions for the new dataset\n",
    "print(\"Predictions for the new dataset:\")\n",
    "print(new_predictions)"
   ]
  },
  {
   "cell_type": "code",
   "execution_count": 108,
   "metadata": {},
   "outputs": [],
   "source": [
    "# select all data points from the encoded dataset\n",
    "new_data = encoded_data.sample(n=304, random_state=42)"
   ]
  },
  {
   "cell_type": "code",
   "execution_count": 109,
   "metadata": {},
   "outputs": [],
   "source": [
    "# Save the undersampled dataset to a CSV file\n",
    "new_data.to_csv(\"D:/CodSoft/Data Science/new_data.csv\", index=False)"
   ]
  },
  {
   "cell_type": "code",
   "execution_count": null,
   "metadata": {},
   "outputs": [],
   "source": []
  }
 ],
 "metadata": {
  "kernelspec": {
   "display_name": "base",
   "language": "python",
   "name": "python3"
  },
  "language_info": {
   "codemirror_mode": {
    "name": "ipython",
    "version": 3
   },
   "file_extension": ".py",
   "mimetype": "text/x-python",
   "name": "python",
   "nbconvert_exporter": "python",
   "pygments_lexer": "ipython3",
   "version": "3.9.13"
  },
  "orig_nbformat": 4
 },
 "nbformat": 4,
 "nbformat_minor": 2
}
